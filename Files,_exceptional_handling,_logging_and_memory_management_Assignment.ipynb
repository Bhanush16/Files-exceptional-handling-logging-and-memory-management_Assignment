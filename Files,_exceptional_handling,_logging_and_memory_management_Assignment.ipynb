{
  "nbformat": 4,
  "nbformat_minor": 0,
  "metadata": {
    "colab": {
      "provenance": []
    },
    "kernelspec": {
      "name": "python3",
      "display_name": "Python 3"
    },
    "language_info": {
      "name": "python"
    }
  },
  "cells": [
    {
      "cell_type": "markdown",
      "source": [
        "#Files, exceptional handling, logging and memory management Questions\n",
        "\n",
        "1. **What is the difference between interpreted and compiled languages?**  \n",
        "\n",
        "   **A)** Interpreted languages execute code line by line at runtime (e.g., Python, JavaScript), whereas compiled languages convert the entire code into machine code before execution (e.g., C, C++). Interpreted languages are generally slower but more flexible, while compiled languages offer better performance.  \n",
        "\n",
        "2. **What is exception handling in Python?**  \n",
        "\n",
        "   **A)** Exception handling in Python allows you to manage runtime errors using `try`, `except`, `finally`, and `else` blocks to prevent program crashes.  \n",
        "\n",
        "3. **What is the purpose of the finally block in exception handling?**  \n",
        "\n",
        "   **A)** The `finally` block ensures that specific cleanup code runs regardless of whether an exception occurs or not.  \n",
        "\n",
        "4. **What is logging in Python?**  \n",
        "\n",
        "   **A)** Logging in Python is a way to track events and errors in a program using the `logging` module, which provides different levels of logging like DEBUG, INFO, WARNING, ERROR, and CRITICAL.  \n",
        "\n",
        "5. **What is the significance of the `__del__` method in Python?**  \n",
        "\n",
        "   **A)** The `__del__` method is a destructor that is called when an object is about to be destroyed, allowing cleanup operations before the object is removed from memory.  \n",
        "\n",
        "6. **What is the difference between `import` and `from ... import` in Python?**  \n",
        "\n",
        "   **A)** `import module_name` imports the entire module, while `from module_name import function_name` imports only a specific function or class from a module.  \n",
        "\n",
        "7. **How can you handle multiple exceptions in Python?**  \n",
        "\n",
        "   **A)** You can handle multiple exceptions using multiple `except` blocks or by using a single `except` block with a tuple of exception types:  \n",
        "   ```python\n",
        "   try:\n",
        "       # Code that may raise an exception\n",
        "   except (TypeError, ValueError) as e:\n",
        "       print(f\"Error: {e}\")\n",
        "   ```  \n",
        "\n",
        "8. **What is the purpose of the `with` statement when handling files in Python?**  \n",
        "\n",
        "   **A)** The `with` statement ensures that a file is properly closed after its block is executed, even if an error occurs.  \n",
        "   ```python\n",
        "   with open(\"file.txt\", \"r\") as f:\n",
        "       data = f.read()\n",
        "   ```  \n",
        "\n",
        "9. **What is the difference between multithreading and multiprocessing?**  \n",
        "\n",
        "   **A)** Multithreading allows concurrent execution within a single process using threads, while multiprocessing uses multiple processes, leveraging multiple CPU cores for better performance in CPU-bound tasks.  \n",
        "\n",
        "10. **What are the advantages of using logging in a program?**  \n",
        "\n",
        "    **A)** Logging provides:  \n",
        "    - A record of program execution  \n",
        "    - Debugging information  \n",
        "    - Error tracking  \n",
        "    - Different logging levels for better control  \n",
        "\n",
        "11. **What is memory management in Python?**  \n",
        "\n",
        "    **A)** Python's memory management includes automatic garbage collection, dynamic memory allocation, and reference counting to manage object lifecycles efficiently.  \n",
        "\n",
        "12. **What are the basic steps involved in exception handling in Python?**  \n",
        "\n",
        "    **A)**  \n",
        "    1. Use a `try` block to wrap code that might raise an exception.  \n",
        "    2. Use one or more `except` blocks to catch specific exceptions.  \n",
        "    3. Optionally, use an `else` block for code that runs if no exceptions occur.  \n",
        "    4. Use a `finally` block to execute code regardless of exceptions.  \n",
        "\n",
        "13. **Why is memory management important in Python?**  \n",
        "\n",
        "    **A)** Proper memory management prevents memory leaks, optimizes performance, and ensures efficient resource utilization.  \n",
        "\n",
        "14. **What is the role of `try` and `except` in exception handling?**  \n",
        "\n",
        "    **A)** The `try` block contains the code that might raise an exception, and the `except` block catches and handles the exception to prevent crashes.  \n",
        "\n",
        "15. **How does Python's garbage collection system work?**  \n",
        "\n",
        "    **A)** Python uses automatic garbage collection, which removes objects no longer referenced. It employs reference counting and a cyclic garbage collector.  \n",
        "\n",
        "16. **What is the purpose of the `else` block in exception handling?**  \n",
        "\n",
        "    **A)** The `else` block runs if no exceptions are raised in the `try` block.  \n",
        "\n",
        "17. **What are the common logging levels in Python?**  \n",
        "\n",
        "    **A)** The logging levels in Python are:  \n",
        "    - `DEBUG` (Detailed debugging information)  \n",
        "    - `INFO` (General program information)  \n",
        "    - `WARNING` (Indications of potential issues)  \n",
        "    - `ERROR` (Serious problems in the program)  \n",
        "    - `CRITICAL` (Severe errors leading to program failure)  \n",
        "\n",
        "18. **What is the difference between `os.fork()` and `multiprocessing` in Python?**  \n",
        "\n",
        "    **A)** `os.fork()` creates a new child process using the existing memory, but it is Unix-specific. The `multiprocessing` module works cross-platform and provides better process control.  \n",
        "\n",
        "19. **What is the importance of closing a file in Python?**  \n",
        "\n",
        "    **A)** Closing a file releases system resources and ensures data integrity.  \n",
        "\n",
        "20. **What is the difference between `file.read()` and `file.readline()` in Python?**  \n",
        "\n",
        "    **A)** `file.read()` reads the entire file or a specified number of characters, whereas `file.readline()` reads only a single line at a time.  \n",
        "\n",
        "21. **What is the logging module in Python used for?**  \n",
        "\n",
        "    **A)** The `logging` module is used for recording and tracking program events, debugging information, and errors.  \n",
        "\n",
        "22. **What is the `os` module in Python used for in file handling?**  \n",
        "\n",
        "    **A)** The `os` module provides functions for interacting with the file system, such as creating, deleting, and navigating directories.  \n",
        "\n",
        "23. **What are the challenges associated with memory management in Python?**  \n",
        "\n",
        "    **A)** Challenges include:  \n",
        "    - Overhead from dynamic typing  \n",
        "    - Cyclic references leading to delayed garbage collection  \n",
        "    - Inefficiencies in memory allocation  \n",
        "\n",
        "24. **How do you raise an exception manually in Python?**  \n",
        "\n",
        "    **A)** Use the `raise` keyword:  \n",
        "    ```python\n",
        "    raise ValueError(\"Invalid input\")\n",
        "    ```  \n",
        "\n",
        "25. **Why is it important to use multithreading in certain applications?**  \n",
        "\n",
        "    **A)** Multithreading is useful for I/O-bound tasks like web scraping and network requests, as it improves responsiveness and resource utilization.  "
      ],
      "metadata": {
        "id": "cl-TZJCHkEng"
      }
    },
    {
      "cell_type": "markdown",
      "source": [
        "#Practical Questions"
      ],
      "metadata": {
        "id": "Wu9CNIBpkcRt"
      }
    },
    {
      "cell_type": "code",
      "source": [
        "#How can you open a file for writing in Python and write a string to it\n",
        "\n",
        "file=open(\"example.txt\",\"w\")\n",
        "file.write(\"hello,\")\n",
        "file.write(\"Good morning,\")\n",
        "file.write(\"how u yall doing,\")\n",
        "file.close()"
      ],
      "metadata": {
        "id": "WgvlLr_ukfsG"
      },
      "execution_count": 37,
      "outputs": []
    },
    {
      "cell_type": "code",
      "source": [
        "#F Write a Python program to read the contents of a file and print each line\n",
        "\n",
        "with open(\"example.txt\", \"r\") as file:\n",
        "    for line in file:\n",
        "        print(line)\n"
      ],
      "metadata": {
        "id": "BMhVEyoxkf3B"
      },
      "execution_count": 2,
      "outputs": []
    },
    {
      "cell_type": "code",
      "source": [
        "#F How would you handle a case where the file doesn't exist while trying to open it for reading\n",
        "try:\n",
        "  with open(\"pw.txt\", \"r\") as file:\n",
        "    for line in file:\n",
        "        print(line)\n",
        "except FileNotFoundError:\n",
        "  print(\"file not found\")"
      ],
      "metadata": {
        "colab": {
          "base_uri": "https://localhost:8080/"
        },
        "id": "TA5M3fKpkf-t",
        "outputId": "a1f99b0d-0b40-4d70-83f8-045b95ec2295"
      },
      "execution_count": 5,
      "outputs": [
        {
          "output_type": "stream",
          "name": "stdout",
          "text": [
            "file not found\n"
          ]
        }
      ]
    },
    {
      "cell_type": "code",
      "source": [
        "#Write a Python script that reads from one file and writes its content to another fileF\n",
        "file=open(\"example.txt\",\"r\")\n",
        "copyfile=open(\"copy.txt\",\"w\")\n",
        "for line in file:\n",
        "  copyfile.write(line)"
      ],
      "metadata": {
        "id": "p5y_1Au-kgG_"
      },
      "execution_count": 8,
      "outputs": []
    },
    {
      "cell_type": "code",
      "source": [
        "#F How would you catch and handle division by zero error in Python\u001f\n",
        "try:\n",
        "  a=8\n",
        "  b=0\n",
        "  print(a/b)\n",
        "except ZeroDivisionError:\n",
        "  print(\"cannot divide by zero\")"
      ],
      "metadata": {
        "colab": {
          "base_uri": "https://localhost:8080/"
        },
        "id": "YNMP3WRknV7i",
        "outputId": "daa15539-c441-4866-fd54-8ac37230685f"
      },
      "execution_count": 14,
      "outputs": [
        {
          "output_type": "stream",
          "name": "stdout",
          "text": [
            "cannot divide by zero\n"
          ]
        }
      ]
    },
    {
      "cell_type": "code",
      "source": [
        "#Write a Python program that logs an error message to a log file when a division by zero exception occurs\n",
        "\n",
        "import logging\n",
        "\n",
        "logging.basicConfig(filename=\"error.log\", level=logging.ERROR, format=\"%(asctime)s - %(levelname)s - %(message)s\")\n",
        "\n",
        "try:\n",
        "  a=8\n",
        "  b=0\n",
        "  print(a/b)\n",
        "except ZeroDivisionError:\n",
        "  logging.error(\"Attempted to divide by zero.\")\n",
        "  print(\"cannot divide by zero\")"
      ],
      "metadata": {
        "colab": {
          "base_uri": "https://localhost:8080/"
        },
        "id": "E99-vMpAn05T",
        "outputId": "ec773a9c-a084-4955-f8e3-916e2bb76ba4"
      },
      "execution_count": 17,
      "outputs": [
        {
          "output_type": "stream",
          "name": "stderr",
          "text": [
            "ERROR:root:Attempted to divide by zero.\n"
          ]
        },
        {
          "output_type": "stream",
          "name": "stdout",
          "text": [
            "cannot divide by zero\n"
          ]
        }
      ]
    },
    {
      "cell_type": "code",
      "source": [
        "#How do you log information at different levels (INFO, ERROR, WARNING) in Python using the logging module\u001f\n",
        "\n",
        "import logging\n",
        "\n",
        "logging.basicConfig(filename=\"app.log\",level=logging.DEBUG,format=\"%(asctime)s - %(levelname)s - %(message)s\")\n",
        "\n",
        "logging.debug(\"This is a debug message.\")\n",
        "logging.info(\"This is an info message.\")\n",
        "logging.warning(\"This is a warning message.\")\n",
        "logging.error(\"This is an error message.\")\n",
        "logging.critical(\"This is a critical message.\")\n"
      ],
      "metadata": {
        "colab": {
          "base_uri": "https://localhost:8080/"
        },
        "id": "ENPjGJ1NoaHv",
        "outputId": "598f70ef-6a95-4c53-e403-76737c239669"
      },
      "execution_count": 19,
      "outputs": [
        {
          "output_type": "stream",
          "name": "stderr",
          "text": [
            "WARNING:root:This is a warning message.\n",
            "ERROR:root:This is an error message.\n",
            "CRITICAL:root:This is a critical message.\n"
          ]
        }
      ]
    },
    {
      "cell_type": "code",
      "source": [
        "# Write a program to handle a file opening error using exception handlingF\n",
        "try:\n",
        "  hfile=open(\"pw.txt\", \"r\")\n",
        "  for line in hfile:\n",
        "    print(line)\n",
        "except FileNotFoundError:\n",
        "    print(\"Error: The file does not exist. Please check the file name and try again.\")"
      ],
      "metadata": {
        "colab": {
          "base_uri": "https://localhost:8080/"
        },
        "id": "Dz5QDCduo4xf",
        "outputId": "d3dd4118-c729-4f79-dc00-b6db60b93f86"
      },
      "execution_count": 22,
      "outputs": [
        {
          "output_type": "stream",
          "name": "stdout",
          "text": [
            "Error: The file does not exist. Please check the file name and try again.\n"
          ]
        }
      ]
    },
    {
      "cell_type": "code",
      "source": [
        "#How can you read a file line by line and store its content in a list in Python\u001f\n",
        "with open(\"example.txt\", \"r\") as file:\n",
        "    lines = [line.strip(',') for line in file]\n",
        "\n",
        "print(lines)\n"
      ],
      "metadata": {
        "colab": {
          "base_uri": "https://localhost:8080/"
        },
        "id": "1Nf5RWxXplY7",
        "outputId": "f6df2c9d-faa6-4650-f603-e5fbf50f31c5"
      },
      "execution_count": 39,
      "outputs": [
        {
          "output_type": "stream",
          "name": "stdout",
          "text": [
            "['hello,Good morning,how u yall doing']\n"
          ]
        }
      ]
    },
    {
      "cell_type": "code",
      "source": [
        "#How can you append data to an existing file in Python\u001f\n",
        "file=open(\"example.txt\",\"a\")\n",
        "file.write(\"this new data,\")\n",
        "file.close()\n"
      ],
      "metadata": {
        "id": "E-XvtEqdreXt"
      },
      "execution_count": 44,
      "outputs": []
    },
    {
      "cell_type": "code",
      "source": [
        "#Write a Python program that uses a try-except block to handle an error when attempting to access a dictionary key that doesn't existF\n",
        "student_scores = {\"Alice\": 85, \"Bob\": 90, \"Charlie\": 78}\n",
        "\n",
        "try:\n",
        "  a=student_scores[\"David\"]\n",
        "  print(a)\n",
        "except KeyError:\n",
        "  print(\"key not found\")"
      ],
      "metadata": {
        "colab": {
          "base_uri": "https://localhost:8080/"
        },
        "id": "aLKwSeUYsDGz",
        "outputId": "c6da8df9-4a48-4c91-d6ee-6d55497567f8"
      },
      "execution_count": 49,
      "outputs": [
        {
          "output_type": "stream",
          "name": "stdout",
          "text": [
            "key not found\n"
          ]
        }
      ]
    },
    {
      "cell_type": "code",
      "source": [
        "#F Write a program that demonstrates using multiple except blocks to handle different types of exceptionsF\n",
        "try:\n",
        "\n",
        "    num1 = 8\n",
        "    num2 = 0\n",
        "\n",
        "    result = num1 / num2\n",
        "\n",
        "    numbers = [1, 2, 3]\n",
        "    print(numbers[5])\n",
        "\n",
        "except ZeroDivisionError:\n",
        "    print(\"Error: Division by zero is not allowed.\")\n",
        "\n",
        "except ValueError:\n",
        "    print(\"Error: Invalid input. Please enter numeric values.\")\n",
        "\n",
        "except IndexError:\n",
        "    print(\"Error: List index out of range.\")\n",
        "\n",
        "except Exception as e:\n",
        "    print(f\"An unexpected error occurred: {e}\")\n",
        "finally:\n",
        "    print(\"Execution completed.\")\n"
      ],
      "metadata": {
        "colab": {
          "base_uri": "https://localhost:8080/"
        },
        "id": "92FcdZtOsshs",
        "outputId": "4dc274ba-08ab-40a5-c4b6-edb17972e40f"
      },
      "execution_count": 51,
      "outputs": [
        {
          "output_type": "stream",
          "name": "stdout",
          "text": [
            "Error: Division by zero is not allowed.\n",
            "Execution completed.\n"
          ]
        }
      ]
    },
    {
      "cell_type": "code",
      "source": [
        "#How would you check if a file exists before attempting to read it in Python\n",
        "import os\n",
        "\n",
        "filename = \"example.txt\"\n",
        "\n",
        "if os.path.exists(filename):\n",
        "    with open(filename, \"r\") as file:\n",
        "        content = file.read()\n",
        "        print(content)\n",
        "else:\n",
        "    print(\"Error: The file does not exist.\")\n"
      ],
      "metadata": {
        "colab": {
          "base_uri": "https://localhost:8080/"
        },
        "id": "PEyOrgWttK_3",
        "outputId": "9854b328-7a22-48de-8674-e3cdd11be33d"
      },
      "execution_count": 53,
      "outputs": [
        {
          "output_type": "stream",
          "name": "stdout",
          "text": [
            "hello,Good morning,how u yall doing,this new data,this new data,this new data,this new data,\n"
          ]
        }
      ]
    },
    {
      "cell_type": "code",
      "source": [
        "# Write a program that uses the logging module to log both informational and error messagesF\n",
        "import logging\n",
        "\n",
        "logging.basicConfig(filename=\"app.log\", level=logging.DEBUG)\n",
        "\n",
        "def divide(a, b):\n",
        "    logging.info(f\"Attempting to divide {a} by {b}\")\n",
        "    try:\n",
        "        result = a / b\n",
        "        logging.info(f\"Division successful: {a} / {b} = {result}\")\n",
        "        return result\n",
        "    except ZeroDivisionError:\n",
        "        logging.error(\"Error: Division by zero is not allowed.\")\n",
        "        return None\n",
        "\n",
        "\n",
        "divide(10, 2)\n",
        "divide(10, 0)\n",
        "\n",
        "print(\"Operations completed. Check app.log for details.\")\n"
      ],
      "metadata": {
        "colab": {
          "base_uri": "https://localhost:8080/"
        },
        "id": "SHfmRwMptiD-",
        "outputId": "b2dc3015-e3bd-4348-a792-545a856139dc"
      },
      "execution_count": 59,
      "outputs": [
        {
          "output_type": "stream",
          "name": "stderr",
          "text": [
            "ERROR:root:Error: Division by zero is not allowed.\n"
          ]
        },
        {
          "output_type": "stream",
          "name": "stdout",
          "text": [
            "Operations completed. Check app.log for details.\n"
          ]
        }
      ]
    },
    {
      "cell_type": "code",
      "source": [
        "#Write a Python program that prints the content of a file and handles the case when the file is emptyF\n",
        "import os\n",
        "\n",
        "def read_file(filename):\n",
        "    try:\n",
        "        if os.path.exists(filename):\n",
        "            with open(filename, \"r\") as file:\n",
        "                content = file.read()\n",
        "\n",
        "                if content.strip():\n",
        "                    print(\"File Content:\\n\", content)\n",
        "                else:\n",
        "                    print(\"The file is empty.\")\n",
        "        else:\n",
        "            print(\"Error: The file does not exist.\")\n",
        "    except Exception as e:\n",
        "        print(f\"An error occurred: {e}\")\n",
        "\n",
        "read_file(\"example.txt\")\n",
        "read_file(\"sgfuies.txt\")\n"
      ],
      "metadata": {
        "colab": {
          "base_uri": "https://localhost:8080/"
        },
        "id": "rHY9bogqukT3",
        "outputId": "1059a7e4-28ef-4cbb-e0be-022f05cd5334"
      },
      "execution_count": 62,
      "outputs": [
        {
          "output_type": "stream",
          "name": "stdout",
          "text": [
            "File Content:\n",
            " hello,Good morning,how u yall doing,this new data,this new data,this new data,this new data,\n",
            "Error: The file does not exist.\n"
          ]
        }
      ]
    },
    {
      "cell_type": "code",
      "source": [
        "pip install memory-profiler"
      ],
      "metadata": {
        "colab": {
          "base_uri": "https://localhost:8080/"
        },
        "id": "1cllO3Ozvk9u",
        "outputId": "bf621e73-7184-4729-b63e-e7d327b303c1"
      },
      "execution_count": 65,
      "outputs": [
        {
          "output_type": "stream",
          "name": "stdout",
          "text": [
            "Collecting memory-profiler\n",
            "  Downloading memory_profiler-0.61.0-py3-none-any.whl.metadata (20 kB)\n",
            "Requirement already satisfied: psutil in /usr/local/lib/python3.11/dist-packages (from memory-profiler) (5.9.5)\n",
            "Downloading memory_profiler-0.61.0-py3-none-any.whl (31 kB)\n",
            "Installing collected packages: memory-profiler\n",
            "Successfully installed memory-profiler-0.61.0\n"
          ]
        }
      ]
    },
    {
      "cell_type": "code",
      "source": [
        "# Demonstrate how to use memory profiling to check the memory usage of a small program\n",
        "\n",
        "from memory_profiler import profile\n",
        "\n",
        "@profile\n",
        "def my_function():\n",
        "\n",
        "    numbers = [i for i in range(100000)]\n",
        "    squares = [n**2 for n in numbers]\n",
        "    return sum(squares)\n",
        "\n",
        "if __name__ == \"__main__\":\n",
        "    my_function()\n"
      ],
      "metadata": {
        "colab": {
          "base_uri": "https://localhost:8080/"
        },
        "id": "hZfP5JHlvGlU",
        "outputId": "bb36571e-87fb-4a5d-bfa3-7bd1b48ee484"
      },
      "execution_count": 72,
      "outputs": [
        {
          "output_type": "stream",
          "name": "stdout",
          "text": [
            "ERROR: Could not find file <ipython-input-72-62a990413a44>\n",
            "NOTE: %mprun can only be used on functions defined in physical files, and not in the IPython environment.\n"
          ]
        }
      ]
    },
    {
      "cell_type": "code",
      "source": [
        "#Write a Python program to create and write a list of numbers to a file, one number per lineF\n",
        "file=open(\"number.txt\",\"w\")\n",
        "for num in range(10):\n",
        "  file.write(f\"{num}\\n\")\n",
        "file.close()\n",
        "\n"
      ],
      "metadata": {
        "id": "Tj20ig7lwKCU"
      },
      "execution_count": 80,
      "outputs": []
    },
    {
      "cell_type": "code",
      "source": [
        "# How would you implement a basic logging setup that logs to a file with rotation after 1MB\u001f\n",
        "\n",
        "import logging\n",
        "from logging.handlers import RotatingFileHandler\n",
        "\n",
        "log_file = \"app.log\"\n",
        "\n",
        "handler = RotatingFileHandler(log_file, maxBytes=1_000_000, backupCount=3)\n",
        "\n",
        "formatter = logging.Formatter(\"%(asctime)s - %(levelname)s - %(message)s\")\n",
        "handler.setFormatter(formatter)\n",
        "\n",
        "logger = logging.getLogger(\"MyLogger\")\n",
        "logger.setLevel(logging.DEBUG)\n",
        "logger.addHandler(handler)\n",
        "\n",
        "logger.info(\"This is an informational message.\")\n",
        "logger.warning(\"This is a warning message.\")\n",
        "logger.error(\"This is an error message.\")\n",
        "\n",
        "print(\"Logging setup complete. Check 'app.log'.\")\n"
      ],
      "metadata": {
        "colab": {
          "base_uri": "https://localhost:8080/"
        },
        "id": "zmbk3SmpxWup",
        "outputId": "80a27edc-e89f-4d2b-ca93-677a50d76dfe"
      },
      "execution_count": 82,
      "outputs": [
        {
          "output_type": "stream",
          "name": "stderr",
          "text": [
            "INFO:MyLogger:This is an informational message.\n",
            "WARNING:MyLogger:This is a warning message.\n",
            "ERROR:MyLogger:This is an error message.\n"
          ]
        },
        {
          "output_type": "stream",
          "name": "stdout",
          "text": [
            "Logging setup complete. Check 'app.log'.\n"
          ]
        }
      ]
    },
    {
      "cell_type": "code",
      "source": [
        "#Write a program that handles both IndexError and KeyError using a try-except block\n",
        "def handle_exceptions():\n",
        "  try:\n",
        "    num=[1,2,3,4]\n",
        "    print(num[5])\n",
        "    data = {\"name\": \"Alice\", \"age\": 25}\n",
        "    print(data[\"addesrdtfygu\"])\n",
        "  except IndexError:\n",
        "    print(\"index doesnt exist\")\n",
        "  except KeyError:\n",
        "    print(\"key doesnt exist\")\n",
        "handle_exceptions()"
      ],
      "metadata": {
        "colab": {
          "base_uri": "https://localhost:8080/"
        },
        "id": "NqgWIe3gx3s4",
        "outputId": "b7591fe2-05fa-427e-d441-ddaa710dd174"
      },
      "execution_count": 89,
      "outputs": [
        {
          "output_type": "stream",
          "name": "stdout",
          "text": [
            "index doesnt exist\n"
          ]
        }
      ]
    },
    {
      "cell_type": "code",
      "source": [
        "#How would you open a file and read its contents using a context manager in Python\u001f\n",
        "file=open(\"example.txt\",\"r\")\n",
        "content=file.read()\n",
        "print(content)"
      ],
      "metadata": {
        "colab": {
          "base_uri": "https://localhost:8080/"
        },
        "id": "-nV91fbnzNQ4",
        "outputId": "209487ca-4c66-48b4-ad8b-310b1d94dd4d"
      },
      "execution_count": 92,
      "outputs": [
        {
          "output_type": "stream",
          "name": "stdout",
          "text": [
            "hello,Good morning,how u yall doing,this new data,this new data,this new data,this new data,\n"
          ]
        }
      ]
    },
    {
      "cell_type": "code",
      "source": [
        "#Write a Python program that reads a file and prints the number of occurrences of a specific wordF\n",
        "\n",
        "def count_word_occurrences(filename, word):\n",
        "    try:\n",
        "        with open(filename, \"r\") as file:\n",
        "            content = file.read().lower()\n",
        "            word_count = content.split().count(word.lower())\n",
        "        print(f\"The word '{word}' appears {word_count} times in {filename}.\")\n",
        "    except FileNotFoundError:\n",
        "        print(\"Error: The file does not exist.\")\n",
        "    except Exception as e:\n",
        "        print(f\"An error occurred: {e}\")\n",
        "\n",
        "\n",
        "filename = \"example.txt\"\n",
        "word_to_count = \"new\"\n",
        "count_word_occurrences(filename, word_to_count)\n"
      ],
      "metadata": {
        "colab": {
          "base_uri": "https://localhost:8080/"
        },
        "id": "Koxpex_2z8oB",
        "outputId": "e5b46b7b-064b-4829-b8d8-95a034adaed4"
      },
      "execution_count": 94,
      "outputs": [
        {
          "output_type": "stream",
          "name": "stdout",
          "text": [
            "The word 'new' appears 4 times in example.txt.\n"
          ]
        }
      ]
    },
    {
      "cell_type": "code",
      "source": [
        "#How can you check if a file is empty before attempting to read its contents\n",
        "\n",
        "import os\n",
        "\n",
        "def is_file_empty(filename):\n",
        "    if os.path.exists(filename):\n",
        "        if os.path.getsize(filename) == 0:\n",
        "            print(f\"The file '{filename}' is empty.\")\n",
        "            return True\n",
        "        else:\n",
        "            print(f\"The file '{filename}' is not empty.\")\n",
        "            return False\n",
        "    else:\n",
        "        print(\"Error: The file does not exist.\")\n",
        "        return None\n",
        "\n",
        "\n",
        "is_file_empty(\"example.txt\")\n"
      ],
      "metadata": {
        "colab": {
          "base_uri": "https://localhost:8080/"
        },
        "id": "LnCMfFaF2B_P",
        "outputId": "bbf028b5-98b9-4500-bf6b-717adf452b2e"
      },
      "execution_count": 96,
      "outputs": [
        {
          "output_type": "stream",
          "name": "stdout",
          "text": [
            "The file 'example.txt' is not empty.\n"
          ]
        },
        {
          "output_type": "execute_result",
          "data": {
            "text/plain": [
              "False"
            ]
          },
          "metadata": {},
          "execution_count": 96
        }
      ]
    },
    {
      "cell_type": "code",
      "source": [
        "# Write a Python program that writes to a log file when an error occurs during file handling.\n",
        "import logging\n",
        "\n",
        "logging.basicConfig(filename=\"file_errors.log\", level=logging.ERROR,format=\"%(asctime)s - %(levelname)s - %(message)s\")\n",
        "\n",
        "def read_file(filename):\n",
        "    try:\n",
        "        with open(filename, \"r\") as file:\n",
        "            content = file.read()\n",
        "            print(\"File Content:\\n\", content)\n",
        "    except FileNotFoundError:\n",
        "        logging.error(f\"File '{filename}' not found.\")\n",
        "        print(f\"Error: File '{filename}' does not exist.\")\n",
        "    except PermissionError:\n",
        "        logging.error(f\"Permission denied for file '{filename}'.\")\n",
        "        print(f\"Error: Permission denied for file '{filename}'.\")\n",
        "    except Exception as e:\n",
        "        logging.error(f\"An unexpected error occurred: {e}\")\n",
        "        print(f\"An unexpected error occurred: {e}\")\n",
        "\n",
        "\n",
        "read_file(\"non_existent_file.txt\")\n"
      ],
      "metadata": {
        "colab": {
          "base_uri": "https://localhost:8080/"
        },
        "id": "bD22IUXE2RRO",
        "outputId": "ecec97db-613f-475e-f5bb-ab65f5c7bddb"
      },
      "execution_count": 98,
      "outputs": [
        {
          "output_type": "stream",
          "name": "stderr",
          "text": [
            "ERROR:root:File 'non_existent_file.txt' not found.\n"
          ]
        },
        {
          "output_type": "stream",
          "name": "stdout",
          "text": [
            "Error: File 'non_existent_file.txt' does not exist.\n"
          ]
        }
      ]
    }
  ]
}